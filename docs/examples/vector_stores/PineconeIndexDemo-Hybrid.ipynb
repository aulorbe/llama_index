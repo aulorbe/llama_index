{
 "cells": [
  {
   "cell_type": "markdown",
   "id": "f168e06c",
   "metadata": {},
   "source": [
    "<a href=\"https://colab.research.google.com/github/run-llama/llama_index/blob/main/docs/examples/vector_stores/PineconeIndexDemo-Hybrid.ipynb\" target=\"_parent\"><img src=\"https://colab.research.google.com/assets/colab-badge.svg\" alt=\"Open In Colab\"/></a>"
   ]
  },
  {
   "cell_type": "markdown",
   "id": "307804a3-c02b-4a57-ac0d-172c30ddc851",
   "metadata": {},
   "source": [
    "# Pinecone Vector Store - Hybrid Search"
   ]
  },
  {
   "cell_type": "markdown",
   "id": "4f821db5",
   "metadata": {},
   "source": [
    "If you're opening this Notebook on colab, you will probably need to install LlamaIndex 🦙."
   ]
  },
  {
   "cell_type": "code",
   "execution_count": null,
   "id": "8604a171",
   "metadata": {},
   "outputs": [
    {
     "name": "stdout",
     "output_type": "stream",
     "text": [
      "Requirement already satisfied: llama-index==0.9.31 in /Users/audrey.lorberfeld/Library/Caches/pypoetry/virtualenvs/llama-index-x-DeHkKW-py3.11/lib/python3.11/site-packages (0.9.31)\n",
      "Requirement already satisfied: SQLAlchemy>=1.4.49 in /Users/audrey.lorberfeld/Library/Caches/pypoetry/virtualenvs/llama-index-x-DeHkKW-py3.11/lib/python3.11/site-packages (from SQLAlchemy[asyncio]>=1.4.49->llama-index==0.9.31) (2.0.25)\n",
      "Requirement already satisfied: aiohttp<4.0.0,>=3.8.6 in /Users/audrey.lorberfeld/Library/Caches/pypoetry/virtualenvs/llama-index-x-DeHkKW-py3.11/lib/python3.11/site-packages (from llama-index==0.9.31) (3.9.1)\n",
      "Requirement already satisfied: beautifulsoup4<5.0.0,>=4.12.2 in /Users/audrey.lorberfeld/Library/Caches/pypoetry/virtualenvs/llama-index-x-DeHkKW-py3.11/lib/python3.11/site-packages (from llama-index==0.9.31) (4.12.2)\n",
      "Requirement already satisfied: dataclasses-json in /Users/audrey.lorberfeld/Library/Caches/pypoetry/virtualenvs/llama-index-x-DeHkKW-py3.11/lib/python3.11/site-packages (from llama-index==0.9.31) (0.6.3)\n",
      "Requirement already satisfied: deprecated>=1.2.9.3 in /Users/audrey.lorberfeld/Library/Caches/pypoetry/virtualenvs/llama-index-x-DeHkKW-py3.11/lib/python3.11/site-packages (from llama-index==0.9.31) (1.2.14)\n",
      "Requirement already satisfied: fsspec>=2023.5.0 in /Users/audrey.lorberfeld/Library/Caches/pypoetry/virtualenvs/llama-index-x-DeHkKW-py3.11/lib/python3.11/site-packages (from llama-index==0.9.31) (2023.12.2)\n",
      "Requirement already satisfied: httpx in /Users/audrey.lorberfeld/Library/Caches/pypoetry/virtualenvs/llama-index-x-DeHkKW-py3.11/lib/python3.11/site-packages (from llama-index==0.9.31) (0.26.0)\n",
      "Requirement already satisfied: nest-asyncio<2.0.0,>=1.5.8 in /Users/audrey.lorberfeld/Library/Caches/pypoetry/virtualenvs/llama-index-x-DeHkKW-py3.11/lib/python3.11/site-packages (from llama-index==0.9.31) (1.5.8)\n",
      "Requirement already satisfied: networkx>=3.0 in /Users/audrey.lorberfeld/Library/Caches/pypoetry/virtualenvs/llama-index-x-DeHkKW-py3.11/lib/python3.11/site-packages (from llama-index==0.9.31) (3.1)\n",
      "Requirement already satisfied: nltk<4.0.0,>=3.8.1 in /Users/audrey.lorberfeld/Library/Caches/pypoetry/virtualenvs/llama-index-x-DeHkKW-py3.11/lib/python3.11/site-packages (from llama-index==0.9.31) (3.8.1)\n",
      "Requirement already satisfied: numpy in /Users/audrey.lorberfeld/Library/Caches/pypoetry/virtualenvs/llama-index-x-DeHkKW-py3.11/lib/python3.11/site-packages (from llama-index==0.9.31) (1.24.4)\n",
      "Requirement already satisfied: openai>=1.1.0 in /Users/audrey.lorberfeld/Library/Caches/pypoetry/virtualenvs/llama-index-x-DeHkKW-py3.11/lib/python3.11/site-packages (from llama-index==0.9.31) (1.7.0)\n",
      "Requirement already satisfied: pandas in /Users/audrey.lorberfeld/Library/Caches/pypoetry/virtualenvs/llama-index-x-DeHkKW-py3.11/lib/python3.11/site-packages (from llama-index==0.9.31) (2.0.3)\n",
      "Requirement already satisfied: requests>=2.31.0 in /Users/audrey.lorberfeld/Library/Caches/pypoetry/virtualenvs/llama-index-x-DeHkKW-py3.11/lib/python3.11/site-packages (from llama-index==0.9.31) (2.31.0)\n",
      "Requirement already satisfied: tenacity<9.0.0,>=8.2.0 in /Users/audrey.lorberfeld/Library/Caches/pypoetry/virtualenvs/llama-index-x-DeHkKW-py3.11/lib/python3.11/site-packages (from llama-index==0.9.31) (8.2.3)\n",
      "Requirement already satisfied: tiktoken>=0.3.3 in /Users/audrey.lorberfeld/Library/Caches/pypoetry/virtualenvs/llama-index-x-DeHkKW-py3.11/lib/python3.11/site-packages (from llama-index==0.9.31) (0.5.2)\n",
      "Requirement already satisfied: typing-extensions>=4.5.0 in /Users/audrey.lorberfeld/Library/Caches/pypoetry/virtualenvs/llama-index-x-DeHkKW-py3.11/lib/python3.11/site-packages (from llama-index==0.9.31) (4.9.0)\n",
      "Requirement already satisfied: typing-inspect>=0.8.0 in /Users/audrey.lorberfeld/Library/Caches/pypoetry/virtualenvs/llama-index-x-DeHkKW-py3.11/lib/python3.11/site-packages (from llama-index==0.9.31) (0.9.0)\n",
      "Requirement already satisfied: attrs>=17.3.0 in /Users/audrey.lorberfeld/Library/Caches/pypoetry/virtualenvs/llama-index-x-DeHkKW-py3.11/lib/python3.11/site-packages (from aiohttp<4.0.0,>=3.8.6->llama-index==0.9.31) (23.2.0)\n",
      "Requirement already satisfied: multidict<7.0,>=4.5 in /Users/audrey.lorberfeld/Library/Caches/pypoetry/virtualenvs/llama-index-x-DeHkKW-py3.11/lib/python3.11/site-packages (from aiohttp<4.0.0,>=3.8.6->llama-index==0.9.31) (6.0.4)\n",
      "Requirement already satisfied: yarl<2.0,>=1.0 in /Users/audrey.lorberfeld/Library/Caches/pypoetry/virtualenvs/llama-index-x-DeHkKW-py3.11/lib/python3.11/site-packages (from aiohttp<4.0.0,>=3.8.6->llama-index==0.9.31) (1.9.4)\n",
      "Requirement already satisfied: frozenlist>=1.1.1 in /Users/audrey.lorberfeld/Library/Caches/pypoetry/virtualenvs/llama-index-x-DeHkKW-py3.11/lib/python3.11/site-packages (from aiohttp<4.0.0,>=3.8.6->llama-index==0.9.31) (1.4.1)\n",
      "Requirement already satisfied: aiosignal>=1.1.2 in /Users/audrey.lorberfeld/Library/Caches/pypoetry/virtualenvs/llama-index-x-DeHkKW-py3.11/lib/python3.11/site-packages (from aiohttp<4.0.0,>=3.8.6->llama-index==0.9.31) (1.3.1)\n",
      "Requirement already satisfied: soupsieve>1.2 in /Users/audrey.lorberfeld/Library/Caches/pypoetry/virtualenvs/llama-index-x-DeHkKW-py3.11/lib/python3.11/site-packages (from beautifulsoup4<5.0.0,>=4.12.2->llama-index==0.9.31) (2.5)\n",
      "Requirement already satisfied: wrapt<2,>=1.10 in /Users/audrey.lorberfeld/Library/Caches/pypoetry/virtualenvs/llama-index-x-DeHkKW-py3.11/lib/python3.11/site-packages (from deprecated>=1.2.9.3->llama-index==0.9.31) (1.16.0)\n",
      "Requirement already satisfied: click in /Users/audrey.lorberfeld/Library/Caches/pypoetry/virtualenvs/llama-index-x-DeHkKW-py3.11/lib/python3.11/site-packages (from nltk<4.0.0,>=3.8.1->llama-index==0.9.31) (8.1.7)\n",
      "Requirement already satisfied: joblib in /Users/audrey.lorberfeld/Library/Caches/pypoetry/virtualenvs/llama-index-x-DeHkKW-py3.11/lib/python3.11/site-packages (from nltk<4.0.0,>=3.8.1->llama-index==0.9.31) (1.3.2)\n",
      "Requirement already satisfied: regex>=2021.8.3 in /Users/audrey.lorberfeld/Library/Caches/pypoetry/virtualenvs/llama-index-x-DeHkKW-py3.11/lib/python3.11/site-packages (from nltk<4.0.0,>=3.8.1->llama-index==0.9.31) (2023.12.25)\n",
      "Requirement already satisfied: tqdm in /Users/audrey.lorberfeld/Library/Caches/pypoetry/virtualenvs/llama-index-x-DeHkKW-py3.11/lib/python3.11/site-packages (from nltk<4.0.0,>=3.8.1->llama-index==0.9.31) (4.66.1)\n",
      "Requirement already satisfied: anyio<5,>=3.5.0 in /Users/audrey.lorberfeld/Library/Caches/pypoetry/virtualenvs/llama-index-x-DeHkKW-py3.11/lib/python3.11/site-packages (from openai>=1.1.0->llama-index==0.9.31) (4.2.0)\n",
      "Requirement already satisfied: distro<2,>=1.7.0 in /Users/audrey.lorberfeld/Library/Caches/pypoetry/virtualenvs/llama-index-x-DeHkKW-py3.11/lib/python3.11/site-packages (from openai>=1.1.0->llama-index==0.9.31) (1.9.0)\n",
      "Requirement already satisfied: pydantic<3,>=1.9.0 in /Users/audrey.lorberfeld/Library/Caches/pypoetry/virtualenvs/llama-index-x-DeHkKW-py3.11/lib/python3.11/site-packages (from openai>=1.1.0->llama-index==0.9.31) (1.10.13)\n",
      "Requirement already satisfied: sniffio in /Users/audrey.lorberfeld/Library/Caches/pypoetry/virtualenvs/llama-index-x-DeHkKW-py3.11/lib/python3.11/site-packages (from openai>=1.1.0->llama-index==0.9.31) (1.3.0)\n",
      "Requirement already satisfied: certifi in /Users/audrey.lorberfeld/Library/Caches/pypoetry/virtualenvs/llama-index-x-DeHkKW-py3.11/lib/python3.11/site-packages (from httpx->llama-index==0.9.31) (2023.11.17)\n",
      "Requirement already satisfied: httpcore==1.* in /Users/audrey.lorberfeld/Library/Caches/pypoetry/virtualenvs/llama-index-x-DeHkKW-py3.11/lib/python3.11/site-packages (from httpx->llama-index==0.9.31) (1.0.2)\n",
      "Requirement already satisfied: idna in /Users/audrey.lorberfeld/Library/Caches/pypoetry/virtualenvs/llama-index-x-DeHkKW-py3.11/lib/python3.11/site-packages (from httpx->llama-index==0.9.31) (3.6)\n",
      "Requirement already satisfied: h11<0.15,>=0.13 in /Users/audrey.lorberfeld/Library/Caches/pypoetry/virtualenvs/llama-index-x-DeHkKW-py3.11/lib/python3.11/site-packages (from httpcore==1.*->httpx->llama-index==0.9.31) (0.14.0)\n",
      "Requirement already satisfied: charset-normalizer<4,>=2 in /Users/audrey.lorberfeld/Library/Caches/pypoetry/virtualenvs/llama-index-x-DeHkKW-py3.11/lib/python3.11/site-packages (from requests>=2.31.0->llama-index==0.9.31) (3.3.2)\n",
      "Requirement already satisfied: urllib3<3,>=1.21.1 in /Users/audrey.lorberfeld/Library/Caches/pypoetry/virtualenvs/llama-index-x-DeHkKW-py3.11/lib/python3.11/site-packages (from requests>=2.31.0->llama-index==0.9.31) (2.0.7)\n",
      "Requirement already satisfied: greenlet!=0.4.17 in /Users/audrey.lorberfeld/Library/Caches/pypoetry/virtualenvs/llama-index-x-DeHkKW-py3.11/lib/python3.11/site-packages (from SQLAlchemy[asyncio]>=1.4.49->llama-index==0.9.31) (3.0.3)\n",
      "Requirement already satisfied: mypy-extensions>=0.3.0 in /Users/audrey.lorberfeld/Library/Caches/pypoetry/virtualenvs/llama-index-x-DeHkKW-py3.11/lib/python3.11/site-packages (from typing-inspect>=0.8.0->llama-index==0.9.31) (1.0.0)\n",
      "Requirement already satisfied: marshmallow<4.0.0,>=3.18.0 in /Users/audrey.lorberfeld/Library/Caches/pypoetry/virtualenvs/llama-index-x-DeHkKW-py3.11/lib/python3.11/site-packages (from dataclasses-json->llama-index==0.9.31) (3.20.2)\n",
      "Requirement already satisfied: python-dateutil>=2.8.2 in /Users/audrey.lorberfeld/Library/Caches/pypoetry/virtualenvs/llama-index-x-DeHkKW-py3.11/lib/python3.11/site-packages (from pandas->llama-index==0.9.31) (2.8.2)\n",
      "Requirement already satisfied: pytz>=2020.1 in /Users/audrey.lorberfeld/Library/Caches/pypoetry/virtualenvs/llama-index-x-DeHkKW-py3.11/lib/python3.11/site-packages (from pandas->llama-index==0.9.31) (2023.3.post1)\n",
      "Requirement already satisfied: tzdata>=2022.1 in /Users/audrey.lorberfeld/Library/Caches/pypoetry/virtualenvs/llama-index-x-DeHkKW-py3.11/lib/python3.11/site-packages (from pandas->llama-index==0.9.31) (2023.4)\n",
      "Requirement already satisfied: packaging>=17.0 in /Users/audrey.lorberfeld/Library/Caches/pypoetry/virtualenvs/llama-index-x-DeHkKW-py3.11/lib/python3.11/site-packages (from marshmallow<4.0.0,>=3.18.0->dataclasses-json->llama-index==0.9.31) (23.2)\n",
      "Requirement already satisfied: six>=1.5 in /Users/audrey.lorberfeld/Library/Caches/pypoetry/virtualenvs/llama-index-x-DeHkKW-py3.11/lib/python3.11/site-packages (from python-dateutil>=2.8.2->pandas->llama-index==0.9.31) (1.16.0)\n"
     ]
    }
   ],
   "source": [
    "!pip install llama-index==0.9.31 llama-index==0.9.31"
   ]
  },
  {
   "cell_type": "markdown",
   "id": "f7010b1d-d1bb-4f08-9309-a328bb4ea396",
   "metadata": {},
   "source": [
    "#### Creating a Pinecone Index"
   ]
  },
  {
   "cell_type": "code",
   "execution_count": null,
   "id": "d48af8e1",
   "metadata": {},
   "outputs": [],
   "source": [
    "import logging\n",
    "import sys\n",
    "\n",
    "logging.basicConfig(stream=sys.stdout, level=logging.INFO)\n",
    "logging.getLogger().addHandler(logging.StreamHandler(stream=sys.stdout))"
   ]
  },
  {
   "cell_type": "code",
   "execution_count": null,
   "id": "0ce3143d-198c-4dd2-8e5a-c5cdf94f017a",
   "metadata": {},
   "outputs": [],
   "source": [
    "from pinecone import Pinecone, ServerlessSpec"
   ]
  },
  {
   "cell_type": "code",
   "execution_count": null,
   "id": "4ad14111-0bbb-4c62-906d-6d6253e0cdee",
   "metadata": {},
   "outputs": [],
   "source": [
    "import os\n",
    "\n",
    "os.environ[\n",
    "    \"PINECONE_API_KEY\"\n",
    "] = \"<Your Pinecone API key, from app.pinecone.io>\"\n",
    "\n",
    "api_key = os.environ[\"PINECONE_API_KEY\"]\n",
    "\n",
    "pc = Pinecone(api_key=api_key)"
   ]
  },
  {
   "cell_type": "code",
   "execution_count": null,
   "id": "c2c90087-bdd9-4ca4-b06b-2af883559f88",
   "metadata": {},
   "outputs": [],
   "source": [
    "# dimensions are for text-embedding-ada-002\n",
    "# NOTE: needs dotproduct for hybrid search\n",
    "\n",
    "pc.create_index(\n",
    "    name=\"quickstart\",\n",
    "    dimension=1536,\n",
    "    metric=\"dotproduct\",\n",
    "    spec=ServerlessSpec(cloud=\"aws\", region=\"us-west-2\"),\n",
    ")\n",
    "\n",
    "# If you need to create a PodBased Pinecone index, you could alternatively do this:\n",
    "#\n",
    "# from pinecone import Pinecone, PodSpec\n",
    "#\n",
    "# pc = Pinecone(api_key='xxx')\n",
    "#\n",
    "# pc.create_index(\n",
    "# \t name='my-index',\n",
    "# \t dimension=1536,\n",
    "# \t metric='cosine',\n",
    "# \t spec=PodSpec(\n",
    "# \t\t environment='us-east1-gcp',\n",
    "# \t\t pod_type='p1.x1',\n",
    "# \t\t pods=1\n",
    "# \t )\n",
    "# )\n",
    "#"
   ]
  },
  {
   "cell_type": "code",
   "execution_count": null,
   "id": "667f3cb3-ce18-48d5-b9aa-bfc1a1f0f0f6",
   "metadata": {},
   "outputs": [],
   "source": [
    "pinecone_index = pc.Index(\"quickstart\")"
   ]
  },
  {
   "cell_type": "markdown",
   "id": "01c6bb69",
   "metadata": {},
   "source": [
    "Download Data"
   ]
  },
  {
   "cell_type": "code",
   "execution_count": null,
   "id": "664f01b4",
   "metadata": {},
   "outputs": [],
   "source": [
    "!mkdir -p 'data/paul_graham/'\n",
    "!wget 'https://raw.githubusercontent.com/run-llama/llama_index/main/docs/examples/data/paul_graham/paul_graham_essay.txt' -O 'data/paul_graham/paul_graham_essay.txt'"
   ]
  },
  {
   "cell_type": "markdown",
   "id": "8ee4473a-094f-4d0a-a825-e1213db07240",
   "metadata": {},
   "source": [
    "#### Load documents, build the PineconeVectorStore"
   ]
  },
  {
   "cell_type": "code",
   "execution_count": null,
   "id": "0a2bcc07",
   "metadata": {},
   "outputs": [],
   "source": [
    "from llama_index import VectorStoreIndex, SimpleDirectoryReader\n",
    "from llama_index.vector_stores import PineconeVectorStore\n",
    "from IPython.display import Markdown, display"
   ]
  },
  {
   "cell_type": "code",
   "execution_count": null,
   "id": "68cbd239-880e-41a3-98d8-dbb3fab55431",
   "metadata": {},
   "outputs": [],
   "source": [
    "# load documents\n",
    "documents = SimpleDirectoryReader(\"./data/paul_graham/\").load_data()"
   ]
  },
  {
   "cell_type": "code",
   "execution_count": null,
   "id": "ba1558b3",
   "metadata": {},
   "outputs": [],
   "source": [
    "# set add_sparse_vector=True to compute sparse vectors during upsert\n",
    "from llama_index.storage.storage_context import StorageContext\n",
    "\n",
    "if \"OPENAI_API_KEY\" not in os.environ:\n",
    "    raise EnvironmentError(f\"Environment variable OPENAI_API_KEY is not set\")\n",
    "\n",
    "vector_store = PineconeVectorStore(\n",
    "    pinecone_index=pinecone_index,\n",
    "    add_sparse_vector=True,\n",
    ")\n",
    "storage_context = StorageContext.from_defaults(vector_store=vector_store)\n",
    "index = VectorStoreIndex.from_documents(\n",
    "    documents, storage_context=storage_context\n",
    ")"
   ]
  },
  {
   "cell_type": "markdown",
   "id": "04304299-fc3e-40a0-8600-f50c3292767e",
   "metadata": {},
   "source": [
    "#### Query Index"
   ]
  },
  {
   "cell_type": "code",
   "execution_count": null,
   "id": "35369eda",
   "metadata": {},
   "outputs": [],
   "source": [
    "# set Logging to DEBUG for more detailed outputs\n",
    "query_engine = index.as_query_engine(vector_store_query_mode=\"hybrid\")\n",
    "response = query_engine.query(\"What did the author do growing up?\")"
   ]
  },
  {
   "cell_type": "code",
   "execution_count": null,
   "id": "bedbb693-725f-478f-be26-fa7180ea38b2",
   "metadata": {},
   "outputs": [],
   "source": [
    "display(Markdown(f\"<b>{response}</b>\"))"
   ]
  }
 ],
 "metadata": {
  "colab": {
   "provenance": []
  },
  "kernelspec": {
   "display_name": "Python 3 (ipykernel)",
   "language": "python",
   "name": "python3"
  },
  "language_info": {
   "codemirror_mode": {
    "name": "ipython",
    "version": 3
   },
   "file_extension": ".py",
   "mimetype": "text/x-python",
   "name": "python",
   "nbconvert_exporter": "python",
   "pygments_lexer": "ipython3"
  }
 },
 "nbformat": 4,
 "nbformat_minor": 5
}
